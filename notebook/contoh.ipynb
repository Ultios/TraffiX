{
 "cells": [
  {
   "cell_type": "code",
   "execution_count": 1,
   "metadata": {},
   "outputs": [],
   "source": [
    "import numpy as np\n",
    "import pandas as pd \n",
    "import networkx as nx\n",
    "import matplotlib.pyplot as plt\n",
    "import geopandas as gpd\n",
    "import osmnx as ox\n",
    "import itertools as it\n",
    "%matplotlib inline"
   ]
  },
  {
   "cell_type": "code",
   "execution_count": 2,
   "metadata": {},
   "outputs": [],
   "source": [
    "flow = 10"
   ]
  },
  {
   "cell_type": "code",
   "execution_count": 3,
   "metadata": {},
   "outputs": [],
   "source": [
    "G = nx.MultiDiGraph()\n",
    "travel_time_awal = [10,20,25]\n",
    "key = G.add_edge(1,2, capacity = 2)\n",
    "key2 = G.add_edge(1,2, capacity = 4)\n",
    "key3 = G.add_edge(1,2, capacity = 3)\n"
   ]
  },
  {
   "cell_type": "code",
   "execution_count": 4,
   "metadata": {},
   "outputs": [
    {
     "data": {
      "text/html": [
       "<div>\n",
       "<style scoped>\n",
       "    .dataframe tbody tr th:only-of-type {\n",
       "        vertical-align: middle;\n",
       "    }\n",
       "\n",
       "    .dataframe tbody tr th {\n",
       "        vertical-align: top;\n",
       "    }\n",
       "\n",
       "    .dataframe thead th {\n",
       "        text-align: right;\n",
       "    }\n",
       "</style>\n",
       "<table border=\"1\" class=\"dataframe\">\n",
       "  <thead>\n",
       "    <tr style=\"text-align: right;\">\n",
       "      <th></th>\n",
       "      <th>source</th>\n",
       "      <th>target</th>\n",
       "      <th>capacity</th>\n",
       "      <th>travel_time_awal</th>\n",
       "      <th>travel_time</th>\n",
       "      <th>flow</th>\n",
       "    </tr>\n",
       "  </thead>\n",
       "  <tbody>\n",
       "    <tr>\n",
       "      <th>0</th>\n",
       "      <td>1</td>\n",
       "      <td>2</td>\n",
       "      <td>2</td>\n",
       "      <td>10</td>\n",
       "      <td>10</td>\n",
       "      <td>0</td>\n",
       "    </tr>\n",
       "    <tr>\n",
       "      <th>1</th>\n",
       "      <td>1</td>\n",
       "      <td>2</td>\n",
       "      <td>4</td>\n",
       "      <td>20</td>\n",
       "      <td>20</td>\n",
       "      <td>0</td>\n",
       "    </tr>\n",
       "    <tr>\n",
       "      <th>2</th>\n",
       "      <td>1</td>\n",
       "      <td>2</td>\n",
       "      <td>3</td>\n",
       "      <td>25</td>\n",
       "      <td>25</td>\n",
       "      <td>0</td>\n",
       "    </tr>\n",
       "  </tbody>\n",
       "</table>\n",
       "</div>"
      ],
      "text/plain": [
       "   source  target  capacity  travel_time_awal  travel_time  flow\n",
       "0       1       2         2                10           10     0\n",
       "1       1       2         4                20           20     0\n",
       "2       1       2         3                25           25     0"
      ]
     },
     "execution_count": 4,
     "metadata": {},
     "output_type": "execute_result"
    }
   ],
   "source": [
    "df = nx.to_pandas_edgelist(G)\n",
    "df['travel_time_awal'] = travel_time_awal\n",
    "df['travel_time'] = travel_time_awal\n",
    "df['flow'] = [0,0,0]\n",
    "df\n",
    "# edge_attr = df_attributes_only.set_index('id').to_dict('index')"
   ]
  },
  {
   "cell_type": "code",
   "execution_count": 5,
   "metadata": {},
   "outputs": [
    {
     "data": {
      "text/plain": [
       "AtlasView({0: {'capacity': 2, 'travel_time_awal': 10, 'travel_time': 10, 'flow': 0}, 1: {'capacity': 4, 'travel_time_awal': 20, 'travel_time': 20, 'flow': 0}, 2: {'capacity': 3, 'travel_time_awal': 25, 'travel_time': 25, 'flow': 0}})"
      ]
     },
     "execution_count": 5,
     "metadata": {},
     "output_type": "execute_result"
    }
   ],
   "source": [
    "# nx.set_edge_attributes(G, values = df['travel_time'].values, name=\"travel_time\")\n",
    "G = nx.from_pandas_edgelist(df, source='source', target='target', edge_attr=True, create_using=nx.MultiDiGraph())\n",
    "G[1][2]"
   ]
  },
  {
   "cell_type": "code",
   "execution_count": null,
   "metadata": {},
   "outputs": [],
   "source": []
  },
  {
   "cell_type": "code",
   "execution_count": 6,
   "metadata": {},
   "outputs": [
    {
     "data": {
      "text/plain": [
       "[1, 2]"
      ]
     },
     "execution_count": 6,
     "metadata": {},
     "output_type": "execute_result"
    }
   ],
   "source": [
    "routes = nx.shortest_path(G, source=1, target=2, weight='travel_time')\n",
    "routes"
   ]
  },
  {
   "cell_type": "code",
   "execution_count": 7,
   "metadata": {},
   "outputs": [
    {
     "data": {
      "text/plain": [
       "0"
      ]
     },
     "execution_count": 7,
     "metadata": {},
     "output_type": "execute_result"
    }
   ],
   "source": [
    "minimum = G[1][2][0]['travel_time']\n",
    "keys = 0\n",
    "for index, i in enumerate(G[1][2]):\n",
    "    if G[1][2][i]['travel_time'] < minimum:\n",
    "        minimum = G[1][2][i]\n",
    "        keys = index\n",
    "\n",
    "keys"
   ]
  },
  {
   "cell_type": "code",
   "execution_count": 8,
   "metadata": {},
   "outputs": [],
   "source": [
    "def routes_jalan(G, routes):\n",
    "    t = 'travel_time'\n",
    "    list_jalan = []\n",
    "    for i in range(len(routes)-1):\n",
    "        minimum = G[routes[i]][routes[i+1]][0][t]\n",
    "        n = 0\n",
    "        keys = 0\n",
    "        for node1, node2, data in G.edges(data=True):\n",
    "            if data[t] < minimum:\n",
    "                minimum = data[t]\n",
    "                keys = n\n",
    "            n += 1\n",
    "        list_jalan.append(keys)\n",
    "    \n",
    "    return list_jalan"
   ]
  },
  {
   "cell_type": "code",
   "execution_count": 9,
   "metadata": {},
   "outputs": [
    {
     "data": {
      "text/plain": [
       "[0]"
      ]
     },
     "execution_count": 9,
     "metadata": {},
     "output_type": "execute_result"
    }
   ],
   "source": [
    "rute_jalan_key = routes_jalan(G, routes)\n",
    "rute_jalan_key"
   ]
  },
  {
   "cell_type": "markdown",
   "metadata": {},
   "source": [
    "## Updating Flow"
   ]
  },
  {
   "cell_type": "code",
   "execution_count": 10,
   "metadata": {},
   "outputs": [],
   "source": [
    "nx.set_edge_attributes(G, values = 0, name='auxflow')"
   ]
  },
  {
   "cell_type": "code",
   "execution_count": 11,
   "metadata": {},
   "outputs": [],
   "source": [
    "def updating_mainflow(G, routes):\n",
    "\n",
    "    rute_jalan_key = routes_jalan(G, routes)\n",
    "\n",
    "    for i in range(len(rute_jalan_key)):\n",
    "        attrs = {(routes[i], routes[i+1], rute_jalan_key[i]): {\"flow\": flow}}\n",
    "        nx.set_edge_attributes(G, attrs)\n",
    "\n",
    "    return G  "
   ]
  },
  {
   "cell_type": "code",
   "execution_count": 12,
   "metadata": {},
   "outputs": [],
   "source": [
    "def updating_auxflow(G, routes):\n",
    "\n",
    "    rute_jalan_key = routes_jalan(G, routes)\n",
    "\n",
    "    nx.set_edge_attributes(G, 0, 'auxflow')\n",
    "\n",
    "    for i in range(len(rute_jalan_key)):\n",
    "        attrs = {(routes[i], routes[i+1], rute_jalan_key[i]): {\"auxflow\": flow}}\n",
    "        nx.set_edge_attributes(G, attrs)\n",
    "\n",
    "    return G  "
   ]
  },
  {
   "cell_type": "code",
   "execution_count": 13,
   "metadata": {},
   "outputs": [
    {
     "data": {
      "text/html": [
       "<div>\n",
       "<style scoped>\n",
       "    .dataframe tbody tr th:only-of-type {\n",
       "        vertical-align: middle;\n",
       "    }\n",
       "\n",
       "    .dataframe tbody tr th {\n",
       "        vertical-align: top;\n",
       "    }\n",
       "\n",
       "    .dataframe thead th {\n",
       "        text-align: right;\n",
       "    }\n",
       "</style>\n",
       "<table border=\"1\" class=\"dataframe\">\n",
       "  <thead>\n",
       "    <tr style=\"text-align: right;\">\n",
       "      <th></th>\n",
       "      <th>source</th>\n",
       "      <th>target</th>\n",
       "      <th>flow</th>\n",
       "      <th>capacity</th>\n",
       "      <th>travel_time_awal</th>\n",
       "      <th>auxflow</th>\n",
       "      <th>travel_time</th>\n",
       "    </tr>\n",
       "  </thead>\n",
       "  <tbody>\n",
       "    <tr>\n",
       "      <th>0</th>\n",
       "      <td>1</td>\n",
       "      <td>2</td>\n",
       "      <td>0</td>\n",
       "      <td>2</td>\n",
       "      <td>10</td>\n",
       "      <td>0</td>\n",
       "      <td>10</td>\n",
       "    </tr>\n",
       "    <tr>\n",
       "      <th>1</th>\n",
       "      <td>1</td>\n",
       "      <td>2</td>\n",
       "      <td>0</td>\n",
       "      <td>4</td>\n",
       "      <td>20</td>\n",
       "      <td>0</td>\n",
       "      <td>20</td>\n",
       "    </tr>\n",
       "    <tr>\n",
       "      <th>2</th>\n",
       "      <td>1</td>\n",
       "      <td>2</td>\n",
       "      <td>0</td>\n",
       "      <td>3</td>\n",
       "      <td>25</td>\n",
       "      <td>0</td>\n",
       "      <td>25</td>\n",
       "    </tr>\n",
       "  </tbody>\n",
       "</table>\n",
       "</div>"
      ],
      "text/plain": [
       "   source  target  flow  capacity  travel_time_awal  auxflow  travel_time\n",
       "0       1       2     0         2                10        0           10\n",
       "1       1       2     0         4                20        0           20\n",
       "2       1       2     0         3                25        0           25"
      ]
     },
     "execution_count": 13,
     "metadata": {},
     "output_type": "execute_result"
    }
   ],
   "source": [
    "nx.to_pandas_edgelist(G)"
   ]
  },
  {
   "cell_type": "code",
   "execution_count": 14,
   "metadata": {},
   "outputs": [
    {
     "data": {
      "text/html": [
       "<div>\n",
       "<style scoped>\n",
       "    .dataframe tbody tr th:only-of-type {\n",
       "        vertical-align: middle;\n",
       "    }\n",
       "\n",
       "    .dataframe tbody tr th {\n",
       "        vertical-align: top;\n",
       "    }\n",
       "\n",
       "    .dataframe thead th {\n",
       "        text-align: right;\n",
       "    }\n",
       "</style>\n",
       "<table border=\"1\" class=\"dataframe\">\n",
       "  <thead>\n",
       "    <tr style=\"text-align: right;\">\n",
       "      <th></th>\n",
       "      <th>source</th>\n",
       "      <th>target</th>\n",
       "      <th>flow</th>\n",
       "      <th>capacity</th>\n",
       "      <th>travel_time_awal</th>\n",
       "      <th>auxflow</th>\n",
       "      <th>travel_time</th>\n",
       "    </tr>\n",
       "  </thead>\n",
       "  <tbody>\n",
       "    <tr>\n",
       "      <th>0</th>\n",
       "      <td>1</td>\n",
       "      <td>2</td>\n",
       "      <td>10</td>\n",
       "      <td>2</td>\n",
       "      <td>10</td>\n",
       "      <td>0</td>\n",
       "      <td>10</td>\n",
       "    </tr>\n",
       "    <tr>\n",
       "      <th>1</th>\n",
       "      <td>1</td>\n",
       "      <td>2</td>\n",
       "      <td>0</td>\n",
       "      <td>4</td>\n",
       "      <td>20</td>\n",
       "      <td>0</td>\n",
       "      <td>20</td>\n",
       "    </tr>\n",
       "    <tr>\n",
       "      <th>2</th>\n",
       "      <td>1</td>\n",
       "      <td>2</td>\n",
       "      <td>0</td>\n",
       "      <td>3</td>\n",
       "      <td>25</td>\n",
       "      <td>0</td>\n",
       "      <td>25</td>\n",
       "    </tr>\n",
       "  </tbody>\n",
       "</table>\n",
       "</div>"
      ],
      "text/plain": [
       "   source  target  flow  capacity  travel_time_awal  auxflow  travel_time\n",
       "0       1       2    10         2                10        0           10\n",
       "1       1       2     0         4                20        0           20\n",
       "2       1       2     0         3                25        0           25"
      ]
     },
     "execution_count": 14,
     "metadata": {},
     "output_type": "execute_result"
    }
   ],
   "source": [
    "Gupdate = updating_mainflow(G, routes)\n",
    "df = nx.to_pandas_edgelist(Gupdate)\n",
    "df"
   ]
  },
  {
   "cell_type": "code",
   "execution_count": 15,
   "metadata": {},
   "outputs": [],
   "source": [
    "#This is a link performance function derived from Indonesia's Highway Manual (MKJI 1997).\n",
    "def lpr_idn(row):\n",
    "    if np.isnan(row['flow']):\n",
    "        return row['travel_time']\n",
    "    else:\n",
    "        try:\n",
    "            return row['travel_time_awal']*(1+0.15*(row['flow']/row['capacity'])**4)\n",
    "        except ValueError:\n",
    "            return row['travel_time']"
   ]
  },
  {
   "cell_type": "code",
   "execution_count": 16,
   "metadata": {},
   "outputs": [
    {
     "data": {
      "text/html": [
       "<div>\n",
       "<style scoped>\n",
       "    .dataframe tbody tr th:only-of-type {\n",
       "        vertical-align: middle;\n",
       "    }\n",
       "\n",
       "    .dataframe tbody tr th {\n",
       "        vertical-align: top;\n",
       "    }\n",
       "\n",
       "    .dataframe thead th {\n",
       "        text-align: right;\n",
       "    }\n",
       "</style>\n",
       "<table border=\"1\" class=\"dataframe\">\n",
       "  <thead>\n",
       "    <tr style=\"text-align: right;\">\n",
       "      <th></th>\n",
       "      <th>source</th>\n",
       "      <th>target</th>\n",
       "      <th>flow</th>\n",
       "      <th>capacity</th>\n",
       "      <th>travel_time_awal</th>\n",
       "      <th>auxflow</th>\n",
       "      <th>travel_time</th>\n",
       "    </tr>\n",
       "  </thead>\n",
       "  <tbody>\n",
       "    <tr>\n",
       "      <th>0</th>\n",
       "      <td>1</td>\n",
       "      <td>2</td>\n",
       "      <td>10</td>\n",
       "      <td>2</td>\n",
       "      <td>10</td>\n",
       "      <td>0</td>\n",
       "      <td>947.5</td>\n",
       "    </tr>\n",
       "    <tr>\n",
       "      <th>1</th>\n",
       "      <td>1</td>\n",
       "      <td>2</td>\n",
       "      <td>0</td>\n",
       "      <td>4</td>\n",
       "      <td>20</td>\n",
       "      <td>0</td>\n",
       "      <td>20.0</td>\n",
       "    </tr>\n",
       "    <tr>\n",
       "      <th>2</th>\n",
       "      <td>1</td>\n",
       "      <td>2</td>\n",
       "      <td>0</td>\n",
       "      <td>3</td>\n",
       "      <td>25</td>\n",
       "      <td>0</td>\n",
       "      <td>25.0</td>\n",
       "    </tr>\n",
       "  </tbody>\n",
       "</table>\n",
       "</div>"
      ],
      "text/plain": [
       "   source  target  flow  capacity  travel_time_awal  auxflow  travel_time\n",
       "0       1       2    10         2                10        0        947.5\n",
       "1       1       2     0         4                20        0         20.0\n",
       "2       1       2     0         3                25        0         25.0"
      ]
     },
     "execution_count": 16,
     "metadata": {},
     "output_type": "execute_result"
    }
   ],
   "source": [
    "list_edge = []\n",
    "for i in G.edges():\n",
    "    list_edge.append(i)\n",
    "\n",
    "for index, i in enumerate(list_edge):\n",
    "    attrib = {(i[0], i[1], index): {\"travel_time\": lpr_idn(G[i[0]][i[1]][index])}}\n",
    "    nx.set_edge_attributes(G, attrib)\n",
    "\n",
    "nx.to_pandas_edgelist(G)"
   ]
  },
  {
   "cell_type": "code",
   "execution_count": 17,
   "metadata": {},
   "outputs": [
    {
     "data": {
      "text/plain": [
       "[1, 2]"
      ]
     },
     "execution_count": 17,
     "metadata": {},
     "output_type": "execute_result"
    }
   ],
   "source": [
    "routes = nx.shortest_path(G, source=1, target=2, weight='travel_time')\n",
    "routes"
   ]
  },
  {
   "cell_type": "code",
   "execution_count": 18,
   "metadata": {},
   "outputs": [
    {
     "data": {
      "text/plain": [
       "[1]"
      ]
     },
     "execution_count": 18,
     "metadata": {},
     "output_type": "execute_result"
    }
   ],
   "source": [
    "rute_jalan_key = routes_jalan(G, routes)\n",
    "rute_jalan_key"
   ]
  },
  {
   "cell_type": "code",
   "execution_count": 19,
   "metadata": {},
   "outputs": [
    {
     "data": {
      "text/html": [
       "<div>\n",
       "<style scoped>\n",
       "    .dataframe tbody tr th:only-of-type {\n",
       "        vertical-align: middle;\n",
       "    }\n",
       "\n",
       "    .dataframe tbody tr th {\n",
       "        vertical-align: top;\n",
       "    }\n",
       "\n",
       "    .dataframe thead th {\n",
       "        text-align: right;\n",
       "    }\n",
       "</style>\n",
       "<table border=\"1\" class=\"dataframe\">\n",
       "  <thead>\n",
       "    <tr style=\"text-align: right;\">\n",
       "      <th></th>\n",
       "      <th>source</th>\n",
       "      <th>target</th>\n",
       "      <th>flow</th>\n",
       "      <th>capacity</th>\n",
       "      <th>travel_time_awal</th>\n",
       "      <th>auxflow</th>\n",
       "      <th>travel_time</th>\n",
       "    </tr>\n",
       "  </thead>\n",
       "  <tbody>\n",
       "    <tr>\n",
       "      <th>0</th>\n",
       "      <td>1</td>\n",
       "      <td>2</td>\n",
       "      <td>10</td>\n",
       "      <td>2</td>\n",
       "      <td>10</td>\n",
       "      <td>0</td>\n",
       "      <td>947.5</td>\n",
       "    </tr>\n",
       "    <tr>\n",
       "      <th>1</th>\n",
       "      <td>1</td>\n",
       "      <td>2</td>\n",
       "      <td>0</td>\n",
       "      <td>4</td>\n",
       "      <td>20</td>\n",
       "      <td>10</td>\n",
       "      <td>20.0</td>\n",
       "    </tr>\n",
       "    <tr>\n",
       "      <th>2</th>\n",
       "      <td>1</td>\n",
       "      <td>2</td>\n",
       "      <td>0</td>\n",
       "      <td>3</td>\n",
       "      <td>25</td>\n",
       "      <td>0</td>\n",
       "      <td>25.0</td>\n",
       "    </tr>\n",
       "  </tbody>\n",
       "</table>\n",
       "</div>"
      ],
      "text/plain": [
       "   source  target  flow  capacity  travel_time_awal  auxflow  travel_time\n",
       "0       1       2    10         2                10        0        947.5\n",
       "1       1       2     0         4                20       10         20.0\n",
       "2       1       2     0         3                25        0         25.0"
      ]
     },
     "execution_count": 19,
     "metadata": {},
     "output_type": "execute_result"
    }
   ],
   "source": [
    "Gupdate = updating_auxflow(G, routes)\n",
    "nx.to_pandas_edgelist(Gupdate)"
   ]
  },
  {
   "cell_type": "markdown",
   "metadata": {},
   "source": [
    "## Bisection Method"
   ]
  },
  {
   "cell_type": "code",
   "execution_count": 20,
   "metadata": {},
   "outputs": [],
   "source": [
    "def line_search(row, a, alpha, beta):\n",
    "    t=row['travel_time_awal']\n",
    "    x=row['flow']\n",
    "    y=row['auxflow']\n",
    "    c=row['capacity']\n",
    "    return -t*(x-y)*(alpha*(((x+a*(y-x))/c)**beta)+1)"
   ]
  },
  {
   "cell_type": "code",
   "execution_count": 21,
   "metadata": {},
   "outputs": [],
   "source": [
    "def update(row, alpha):\n",
    "    return row['flow'] + alpha * (row['auxflow'] - row['flow'])"
   ]
  },
  {
   "cell_type": "code",
   "execution_count": 22,
   "metadata": {},
   "outputs": [],
   "source": [
    "def bisection(G, xl=0, xr=1, delta=0.0002, alpha=0.15, beta=4):\n",
    "    n = 0\n",
    "    df = nx.to_pandas_edgelist(G)\n",
    "    condition = True\n",
    "    while condition:\n",
    "        n += 1\n",
    "        x = (xl+xr)/2\n",
    "        if df.apply(lambda row: line_search(row, x, alpha=alpha, beta=beta), axis = 1).sum() <= 0:\n",
    "            xl = x\n",
    "        else:\n",
    "            xr = x\n",
    "        condition = abs(xr-xl) > 2*delta\n",
    "        print('|xl-xr| =', abs(xr-xl),' xl =', xl, ' xr=',xr)\n",
    "    print(f\"number of iteration in bisection method is {n} with alpha = {(xr+xl)/2}\")\n",
    "    return (xr+xl)/2"
   ]
  },
  {
   "cell_type": "code",
   "execution_count": 23,
   "metadata": {},
   "outputs": [
    {
     "data": {
      "text/html": [
       "<div>\n",
       "<style scoped>\n",
       "    .dataframe tbody tr th:only-of-type {\n",
       "        vertical-align: middle;\n",
       "    }\n",
       "\n",
       "    .dataframe tbody tr th {\n",
       "        vertical-align: top;\n",
       "    }\n",
       "\n",
       "    .dataframe thead th {\n",
       "        text-align: right;\n",
       "    }\n",
       "</style>\n",
       "<table border=\"1\" class=\"dataframe\">\n",
       "  <thead>\n",
       "    <tr style=\"text-align: right;\">\n",
       "      <th></th>\n",
       "      <th>source</th>\n",
       "      <th>target</th>\n",
       "      <th>flow</th>\n",
       "      <th>capacity</th>\n",
       "      <th>travel_time_awal</th>\n",
       "      <th>auxflow</th>\n",
       "      <th>travel_time</th>\n",
       "    </tr>\n",
       "  </thead>\n",
       "  <tbody>\n",
       "    <tr>\n",
       "      <th>0</th>\n",
       "      <td>1</td>\n",
       "      <td>2</td>\n",
       "      <td>10</td>\n",
       "      <td>2</td>\n",
       "      <td>10</td>\n",
       "      <td>0</td>\n",
       "      <td>947.5</td>\n",
       "    </tr>\n",
       "    <tr>\n",
       "      <th>1</th>\n",
       "      <td>1</td>\n",
       "      <td>2</td>\n",
       "      <td>0</td>\n",
       "      <td>4</td>\n",
       "      <td>20</td>\n",
       "      <td>10</td>\n",
       "      <td>20.0</td>\n",
       "    </tr>\n",
       "    <tr>\n",
       "      <th>2</th>\n",
       "      <td>1</td>\n",
       "      <td>2</td>\n",
       "      <td>0</td>\n",
       "      <td>3</td>\n",
       "      <td>25</td>\n",
       "      <td>0</td>\n",
       "      <td>25.0</td>\n",
       "    </tr>\n",
       "  </tbody>\n",
       "</table>\n",
       "</div>"
      ],
      "text/plain": [
       "   source  target  flow  capacity  travel_time_awal  auxflow  travel_time\n",
       "0       1       2    10         2                10        0        947.5\n",
       "1       1       2     0         4                20       10         20.0\n",
       "2       1       2     0         3                25        0         25.0"
      ]
     },
     "execution_count": 23,
     "metadata": {},
     "output_type": "execute_result"
    }
   ],
   "source": [
    "nx.to_pandas_edgelist(G)"
   ]
  },
  {
   "cell_type": "code",
   "execution_count": 24,
   "metadata": {},
   "outputs": [
    {
     "name": "stdout",
     "output_type": "stream",
     "text": [
      "|xl-xr| = 0.5  xl = 0.5  xr= 1\n",
      "|xl-xr| = 0.25  xl = 0.5  xr= 0.75\n",
      "|xl-xr| = 0.125  xl = 0.5  xr= 0.625\n",
      "|xl-xr| = 0.0625  xl = 0.5625  xr= 0.625\n",
      "|xl-xr| = 0.03125  xl = 0.59375  xr= 0.625\n",
      "|xl-xr| = 0.015625  xl = 0.59375  xr= 0.609375\n",
      "|xl-xr| = 0.0078125  xl = 0.59375  xr= 0.6015625\n",
      "|xl-xr| = 0.00390625  xl = 0.59375  xr= 0.59765625\n",
      "|xl-xr| = 0.001953125  xl = 0.595703125  xr= 0.59765625\n",
      "|xl-xr| = 0.0009765625  xl = 0.595703125  xr= 0.5966796875\n",
      "|xl-xr| = 0.00048828125  xl = 0.59619140625  xr= 0.5966796875\n",
      "|xl-xr| = 0.000244140625  xl = 0.596435546875  xr= 0.5966796875\n",
      "number of iteration in bisection method is 12 with alpha = 0.5965576171875\n"
     ]
    },
    {
     "data": {
      "text/plain": [
       "0.5965576171875"
      ]
     },
     "execution_count": 24,
     "metadata": {},
     "output_type": "execute_result"
    }
   ],
   "source": [
    "bisection(G)"
   ]
  },
  {
   "cell_type": "code",
   "execution_count": 25,
   "metadata": {},
   "outputs": [
    {
     "name": "stdout",
     "output_type": "stream",
     "text": [
      "|xl-xr| = 0.5  xl = 0.5  xr= 1\n",
      "|xl-xr| = 0.25  xl = 0.5  xr= 0.75\n",
      "|xl-xr| = 0.125  xl = 0.5  xr= 0.625\n",
      "|xl-xr| = 0.0625  xl = 0.5625  xr= 0.625\n",
      "|xl-xr| = 0.03125  xl = 0.59375  xr= 0.625\n",
      "|xl-xr| = 0.015625  xl = 0.59375  xr= 0.609375\n",
      "|xl-xr| = 0.0078125  xl = 0.59375  xr= 0.6015625\n",
      "|xl-xr| = 0.00390625  xl = 0.59375  xr= 0.59765625\n",
      "|xl-xr| = 0.001953125  xl = 0.595703125  xr= 0.59765625\n",
      "|xl-xr| = 0.0009765625  xl = 0.595703125  xr= 0.5966796875\n",
      "|xl-xr| = 0.00048828125  xl = 0.59619140625  xr= 0.5966796875\n",
      "|xl-xr| = 0.000244140625  xl = 0.596435546875  xr= 0.5966796875\n",
      "number of iteration in bisection method is 12 with alpha = 0.5965576171875\n"
     ]
    },
    {
     "data": {
      "text/html": [
       "<div>\n",
       "<style scoped>\n",
       "    .dataframe tbody tr th:only-of-type {\n",
       "        vertical-align: middle;\n",
       "    }\n",
       "\n",
       "    .dataframe tbody tr th {\n",
       "        vertical-align: top;\n",
       "    }\n",
       "\n",
       "    .dataframe thead th {\n",
       "        text-align: right;\n",
       "    }\n",
       "</style>\n",
       "<table border=\"1\" class=\"dataframe\">\n",
       "  <thead>\n",
       "    <tr style=\"text-align: right;\">\n",
       "      <th></th>\n",
       "      <th>source</th>\n",
       "      <th>target</th>\n",
       "      <th>flow</th>\n",
       "      <th>capacity</th>\n",
       "      <th>travel_time_awal</th>\n",
       "      <th>flow2</th>\n",
       "      <th>auxflow</th>\n",
       "      <th>travel_time</th>\n",
       "    </tr>\n",
       "  </thead>\n",
       "  <tbody>\n",
       "    <tr>\n",
       "      <th>0</th>\n",
       "      <td>1</td>\n",
       "      <td>2</td>\n",
       "      <td>10</td>\n",
       "      <td>2</td>\n",
       "      <td>10</td>\n",
       "      <td>4.034424</td>\n",
       "      <td>0</td>\n",
       "      <td>947.5</td>\n",
       "    </tr>\n",
       "    <tr>\n",
       "      <th>1</th>\n",
       "      <td>1</td>\n",
       "      <td>2</td>\n",
       "      <td>0</td>\n",
       "      <td>4</td>\n",
       "      <td>20</td>\n",
       "      <td>5.965576</td>\n",
       "      <td>10</td>\n",
       "      <td>20.0</td>\n",
       "    </tr>\n",
       "    <tr>\n",
       "      <th>2</th>\n",
       "      <td>1</td>\n",
       "      <td>2</td>\n",
       "      <td>0</td>\n",
       "      <td>3</td>\n",
       "      <td>25</td>\n",
       "      <td>0.000000</td>\n",
       "      <td>0</td>\n",
       "      <td>25.0</td>\n",
       "    </tr>\n",
       "  </tbody>\n",
       "</table>\n",
       "</div>"
      ],
      "text/plain": [
       "   source  target  flow  capacity  travel_time_awal     flow2  auxflow  \\\n",
       "0       1       2    10         2                10  4.034424        0   \n",
       "1       1       2     0         4                20  5.965576       10   \n",
       "2       1       2     0         3                25  0.000000        0   \n",
       "\n",
       "   travel_time  \n",
       "0        947.5  \n",
       "1         20.0  \n",
       "2         25.0  "
      ]
     },
     "execution_count": 25,
     "metadata": {},
     "output_type": "execute_result"
    }
   ],
   "source": [
    "alpha = bisection(G)\n",
    "df = nx.to_pandas_edgelist(G)\n",
    "tes = df.apply(lambda row: update(row, alpha), axis=1)\n",
    "\n",
    "for index, i in enumerate(list_edge):\n",
    "    new_flow = 'flow' + str(2)\n",
    "    attrib = {(i[0], i[1], index): {new_flow: tes[index]}}\n",
    "    nx.set_edge_attributes(G, attrib)\n",
    "\n",
    "nx.to_pandas_edgelist(G)"
   ]
  },
  {
   "cell_type": "code",
   "execution_count": null,
   "metadata": {},
   "outputs": [],
   "source": []
  },
  {
   "attachments": {},
   "cell_type": "markdown",
   "metadata": {},
   "source": [
    "# Convev Combinations Algorithm"
   ]
  },
  {
   "cell_type": "code",
   "execution_count": null,
   "metadata": {},
   "outputs": [],
   "source": []
  },
  {
   "cell_type": "code",
   "execution_count": 26,
   "metadata": {},
   "outputs": [],
   "source": [
    "#This is a link performance function derived from Indonesia's Highway Manual (MKJI 1997).\n",
    "def lpr_idn(row):\n",
    "    flow = 'flow'\n",
    "    if np.isnan(row['flow']):\n",
    "        return row['travel_time']\n",
    "    else:\n",
    "        try:\n",
    "            return row['travel_time_awal']*(1+0.15*(row['flow']/row['capacity'])**4)\n",
    "        except ValueError:\n",
    "            return row['travel_time']"
   ]
  },
  {
   "cell_type": "code",
   "execution_count": 27,
   "metadata": {},
   "outputs": [],
   "source": [
    "def CCA(G, source, target):\n",
    "    #Initialize\n",
    "    routes = nx.shortest_path(G, source, target, weight='travel_time_awal')\n",
    "    # rute_jalan_key = routes_jalan(G, routes)\n",
    "    G = updating_mainflow(G, routes)\n",
    "\n",
    "    #Iterasi 1\n",
    "    list_edge = []\n",
    "    for i in G.edges():\n",
    "        list_edge.append(i)\n",
    "\n",
    "    for index, i in enumerate(list_edge):\n",
    "        attrib = {(i[0], i[1], index): {\"travel_time1\": lpr_idn(G[i[0]][i[1]][index])}}\n",
    "        nx.set_edge_attributes(G, attrib)\n",
    "\n",
    "    routes = nx.shortest_path(G, source=1, target=2, weight='travel_time1')\n",
    "    # rute_jalan_key = routes_jalan(G, routes)\n",
    "    G = updating_auxflow(G, routes)\n",
    "\n",
    "    alpha = bisection(G)\n",
    "    df = nx.to_pandas_edgelist(G)\n",
    "    flow_baru = df.apply(lambda row: update(row, alpha), axis=1)\n",
    "\n",
    "    for index, i in enumerate(list_edge):\n",
    "        new_flow = 'flow' + str(2)\n",
    "        attrib = {(i[0], i[1], index): {new_flow: flow_baru[index]}}\n",
    "        nx.set_edge_attributes(G, attrib)\n",
    "\n",
    "    routes = nx.shortest_path(G, source, target, weight='travel_time')\n",
    "    # rute_jalan_key = routes_jalan(G, routes)\n",
    "    # G = updating_mainflow(G, routes)\n",
    "\n",
    "    #Iterasi 2\n",
    "    list_edge = []\n",
    "    for i in G.edges():\n",
    "        list_edge.append(i)\n",
    "\n",
    "    for index, i in enumerate(list_edge):\n",
    "        attrib = {(i[0], i[1], index): {\"travel_time2\": lpr_idn(G[i[0]][i[1]][index])}}\n",
    "        nx.set_edge_attributes(G, attrib)\n",
    "\n",
    "    routes = nx.shortest_path(G, source=1, target=2, weight='travel_time')\n",
    "    # rute_jalan_key = routes_jalan(G, routes)\n",
    "    G = updating_auxflow(G, routes)\n",
    "\n",
    "    alpha = bisection(G)\n",
    "    df = nx.to_pandas_edgelist(G)\n",
    "    flow_baru = df.apply(lambda row: update(row, alpha), axis=1)\n",
    "\n",
    "    for index, i in enumerate(list_edge):\n",
    "        new_flow = 'flow' + str(3)\n",
    "        attrib = {(i[0], i[1], index): {new_flow: flow_baru[index]}}\n",
    "        nx.set_edge_attributes(G, attrib)\n",
    "\n",
    "    # iterasi 3\n",
    "    routes = nx.shortest_path(G, source, target, weight='travel_time')\n",
    "    # rute_jalan_key = routes_jalan(G, routes)\n",
    "    # G = updating_mainflow(G, routes)\n",
    "\n",
    "    list_edge = []\n",
    "    for i in G.edges():\n",
    "        list_edge.append(i)\n",
    "\n",
    "    for index, i in enumerate(list_edge):\n",
    "        attrib = {(i[0], i[1], index): {\"travel_time3\": lpr_idn(G[i[0]][i[1]][index])}}\n",
    "        nx.set_edge_attributes(G, attrib)\n",
    "\n",
    "    routes = nx.shortest_path(G, source=1, target=2, weight='travel_time')\n",
    "    # rute_jalan_key = routes_jalan(G, routes)\n",
    "    G = updating_auxflow(G, routes)\n",
    "\n",
    "    alpha = bisection(G)\n",
    "    df = nx.to_pandas_edgelist(G)\n",
    "    flow_baru = df.apply(lambda row: update(row, alpha), axis=1)\n",
    "\n",
    "    for index, i in enumerate(list_edge):\n",
    "        new_flow = 'flow' + str(4)\n",
    "        attrib = {(i[0], i[1], index): {new_flow: flow_baru[index]}}\n",
    "        nx.set_edge_attributes(G, attrib)\n",
    "\n",
    "    return G\n"
   ]
  },
  {
   "cell_type": "code",
   "execution_count": 28,
   "metadata": {},
   "outputs": [
    {
     "ename": "KeyError",
     "evalue": "'travel_time'",
     "output_type": "error",
     "traceback": [
      "\u001b[0;31m---------------------------------------------------------------------------\u001b[0m",
      "\u001b[0;31mKeyError\u001b[0m                                  Traceback (most recent call last)",
      "Cell \u001b[0;32mIn [28], line 17\u001b[0m\n\u001b[1;32m     13\u001b[0m \u001b[39m# edge_attr = df_attributes_only.set_index('id').to_dict('index')\u001b[39;00m\n\u001b[1;32m     14\u001b[0m \u001b[39m# nx.set_edge_attributes(G, values = df['travel_time'].values, name=\"travel_time\")\u001b[39;00m\n\u001b[1;32m     15\u001b[0m G \u001b[39m=\u001b[39m nx\u001b[39m.\u001b[39mfrom_pandas_edgelist(df, source\u001b[39m=\u001b[39m\u001b[39m'\u001b[39m\u001b[39msource\u001b[39m\u001b[39m'\u001b[39m, target\u001b[39m=\u001b[39m\u001b[39m'\u001b[39m\u001b[39mtarget\u001b[39m\u001b[39m'\u001b[39m, edge_attr\u001b[39m=\u001b[39m\u001b[39mTrue\u001b[39;00m, create_using\u001b[39m=\u001b[39mnx\u001b[39m.\u001b[39mMultiDiGraph())\n\u001b[0;32m---> 17\u001b[0m H \u001b[39m=\u001b[39m CCA(G,\u001b[39m1\u001b[39;49m,\u001b[39m2\u001b[39;49m)\n\u001b[1;32m     18\u001b[0m df \u001b[39m=\u001b[39m nx\u001b[39m.\u001b[39mto_pandas_edgelist(H)\n\u001b[1;32m     19\u001b[0m df\n",
      "Cell \u001b[0;32mIn [27], line 5\u001b[0m, in \u001b[0;36mCCA\u001b[0;34m(G, source, target)\u001b[0m\n\u001b[1;32m      3\u001b[0m routes \u001b[39m=\u001b[39m nx\u001b[39m.\u001b[39mshortest_path(G, source, target, weight\u001b[39m=\u001b[39m\u001b[39m'\u001b[39m\u001b[39mtravel_time_awal\u001b[39m\u001b[39m'\u001b[39m)\n\u001b[1;32m      4\u001b[0m \u001b[39m# rute_jalan_key = routes_jalan(G, routes)\u001b[39;00m\n\u001b[0;32m----> 5\u001b[0m G \u001b[39m=\u001b[39m updating_mainflow(G, routes)\n\u001b[1;32m      7\u001b[0m \u001b[39m#Iterasi 1\u001b[39;00m\n\u001b[1;32m      8\u001b[0m list_edge \u001b[39m=\u001b[39m []\n",
      "Cell \u001b[0;32mIn [11], line 3\u001b[0m, in \u001b[0;36mupdating_mainflow\u001b[0;34m(G, routes)\u001b[0m\n\u001b[1;32m      1\u001b[0m \u001b[39mdef\u001b[39;00m \u001b[39mupdating_mainflow\u001b[39m(G, routes):\n\u001b[0;32m----> 3\u001b[0m     rute_jalan_key \u001b[39m=\u001b[39m routes_jalan(G, routes)\n\u001b[1;32m      5\u001b[0m     \u001b[39mfor\u001b[39;00m i \u001b[39min\u001b[39;00m \u001b[39mrange\u001b[39m(\u001b[39mlen\u001b[39m(rute_jalan_key)):\n\u001b[1;32m      6\u001b[0m         attrs \u001b[39m=\u001b[39m {(routes[i], routes[i\u001b[39m+\u001b[39m\u001b[39m1\u001b[39m], rute_jalan_key[i]): {\u001b[39m\"\u001b[39m\u001b[39mflow\u001b[39m\u001b[39m\"\u001b[39m: flow}}\n",
      "Cell \u001b[0;32mIn [8], line 5\u001b[0m, in \u001b[0;36mroutes_jalan\u001b[0;34m(G, routes)\u001b[0m\n\u001b[1;32m      3\u001b[0m list_jalan \u001b[39m=\u001b[39m []\n\u001b[1;32m      4\u001b[0m \u001b[39mfor\u001b[39;00m i \u001b[39min\u001b[39;00m \u001b[39mrange\u001b[39m(\u001b[39mlen\u001b[39m(routes)\u001b[39m-\u001b[39m\u001b[39m1\u001b[39m):\n\u001b[0;32m----> 5\u001b[0m     minimum \u001b[39m=\u001b[39m G[routes[i]][routes[i\u001b[39m+\u001b[39;49m\u001b[39m1\u001b[39;49m]][\u001b[39m0\u001b[39;49m][t]\n\u001b[1;32m      6\u001b[0m     n \u001b[39m=\u001b[39m \u001b[39m0\u001b[39m\n\u001b[1;32m      7\u001b[0m     keys \u001b[39m=\u001b[39m \u001b[39m0\u001b[39m\n",
      "\u001b[0;31mKeyError\u001b[0m: 'travel_time'"
     ]
    }
   ],
   "source": [
    "# Contoh\n",
    "G = nx.MultiDiGraph()\n",
    "travel_time_awal = [10,20,25]\n",
    "key = G.add_edge(1,2, capacity = 2)\n",
    "key2 = G.add_edge(1,2, capacity = 4)\n",
    "key3 = G.add_edge(1,2, capacity = 3)\n",
    "\n",
    "df = nx.to_pandas_edgelist(G)\n",
    "df['travel_time_awal'] = travel_time_awal\n",
    "df['travel_time1'] = travel_time_awal\n",
    "df['flow1'] = [0,0,0]\n",
    "df\n",
    "# edge_attr = df_attributes_only.set_index('id').to_dict('index')\n",
    "# nx.set_edge_attributes(G, values = df['travel_time'].values, name=\"travel_time\")\n",
    "G = nx.from_pandas_edgelist(df, source='source', target='target', edge_attr=True, create_using=nx.MultiDiGraph())\n",
    "\n",
    "H = CCA(G,1,2)\n",
    "df = nx.to_pandas_edgelist(H)\n",
    "df"
   ]
  },
  {
   "cell_type": "code",
   "execution_count": null,
   "metadata": {},
   "outputs": [
    {
     "data": {
      "text/html": [
       "<div>\n",
       "<style scoped>\n",
       "    .dataframe tbody tr th:only-of-type {\n",
       "        vertical-align: middle;\n",
       "    }\n",
       "\n",
       "    .dataframe tbody tr th {\n",
       "        vertical-align: top;\n",
       "    }\n",
       "\n",
       "    .dataframe thead th {\n",
       "        text-align: right;\n",
       "    }\n",
       "</style>\n",
       "<table border=\"1\" class=\"dataframe\">\n",
       "  <thead>\n",
       "    <tr style=\"text-align: right;\">\n",
       "      <th></th>\n",
       "      <th>source</th>\n",
       "      <th>target</th>\n",
       "      <th>flow</th>\n",
       "      <th>travel_time</th>\n",
       "      <th>travel_time_awal</th>\n",
       "      <th>capacity</th>\n",
       "      <th>flow2</th>\n",
       "      <th>auxflow</th>\n",
       "      <th>travel_time2</th>\n",
       "    </tr>\n",
       "  </thead>\n",
       "  <tbody>\n",
       "    <tr>\n",
       "      <th>0</th>\n",
       "      <td>1</td>\n",
       "      <td>2</td>\n",
       "      <td>10</td>\n",
       "      <td>947.5</td>\n",
       "      <td>10</td>\n",
       "      <td>2</td>\n",
       "      <td>4.034424</td>\n",
       "      <td>0</td>\n",
       "      <td>34.836898</td>\n",
       "    </tr>\n",
       "    <tr>\n",
       "      <th>1</th>\n",
       "      <td>1</td>\n",
       "      <td>2</td>\n",
       "      <td>0</td>\n",
       "      <td>20.0</td>\n",
       "      <td>20</td>\n",
       "      <td>4</td>\n",
       "      <td>5.965576</td>\n",
       "      <td>10</td>\n",
       "      <td>34.841947</td>\n",
       "    </tr>\n",
       "    <tr>\n",
       "      <th>2</th>\n",
       "      <td>1</td>\n",
       "      <td>2</td>\n",
       "      <td>0</td>\n",
       "      <td>25.0</td>\n",
       "      <td>25</td>\n",
       "      <td>3</td>\n",
       "      <td>0.000000</td>\n",
       "      <td>0</td>\n",
       "      <td>25.000000</td>\n",
       "    </tr>\n",
       "  </tbody>\n",
       "</table>\n",
       "</div>"
      ],
      "text/plain": [
       "   source  target  flow  travel_time  travel_time_awal  capacity     flow2  \\\n",
       "0       1       2    10        947.5                10         2  4.034424   \n",
       "1       1       2     0         20.0                20         4  5.965576   \n",
       "2       1       2     0         25.0                25         3  0.000000   \n",
       "\n",
       "   auxflow  travel_time2  \n",
       "0        0     34.836898  \n",
       "1       10     34.841947  \n",
       "2        0     25.000000  "
      ]
     },
     "execution_count": 266,
     "metadata": {},
     "output_type": "execute_result"
    }
   ],
   "source": [
    "routes = nx.shortest_path(H, 1, 2, weight='travel_time')\n",
    "rute_jalan_key = routes_jalan(H, routes)\n",
    "# nx.set_edge_attributes(H, 0, 'travel_time2')\n",
    "\n",
    "list_edge = []\n",
    "for i in G.edges():\n",
    "    list_edge.append(i)\n",
    "\n",
    "for index, i in enumerate(list_edge):\n",
    "    attrib = {(i[0], i[1], index): {\"travel_time2\": lpr_idn(H[i[0]][i[1]][index])}}\n",
    "    nx.set_edge_attributes(G, attrib)\n",
    "\n",
    "nx.to_pandas_edgelist(H)"
   ]
  }
 ],
 "metadata": {
  "kernelspec": {
   "display_name": "Python 3.10.6 ('ox')",
   "language": "python",
   "name": "python3"
  },
  "language_info": {
   "codemirror_mode": {
    "name": "ipython",
    "version": 3
   },
   "file_extension": ".py",
   "mimetype": "text/x-python",
   "name": "python",
   "nbconvert_exporter": "python",
   "pygments_lexer": "ipython3",
   "version": "3.10.6"
  },
  "orig_nbformat": 4,
  "vscode": {
   "interpreter": {
    "hash": "132ad71d0fd4d9f16fe8a1783310a605af33a9e8263c383e9e84dbe57d705c94"
   }
  }
 },
 "nbformat": 4,
 "nbformat_minor": 2
}
