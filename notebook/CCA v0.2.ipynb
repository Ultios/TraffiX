{
 "cells": [
  {
   "cell_type": "code",
   "execution_count": 1,
   "metadata": {},
   "outputs": [],
   "source": [
    "import numpy as np\n",
    "import pandas as pd \n",
    "import networkx as nx\n",
    "import matplotlib.pyplot as plt\n",
    "import geopandas as gpd\n",
    "import osmnx as ox\n",
    "import itertools as it\n",
    "%matplotlib inline"
   ]
  },
  {
   "cell_type": "code",
   "execution_count": 2,
   "metadata": {},
   "outputs": [],
   "source": [
    "def routes_jalan(G, routes):\n",
    "    t = 'travel_time'\n",
    "    list_jalan = []\n",
    "    for i in range(len(routes)-1):\n",
    "        minimum = G[routes[i]][routes[i+1]][0][t]\n",
    "        print(minimum)\n",
    "        j = 0\n",
    "        keys = 0\n",
    "        for j in range(len(G.get_edge_data(routes[i], routes[i+1]))):\n",
    "            if G.get_edge_data(routes[i], routes[i+1], j)[t] < minimum:\n",
    "                minimum = G.get_edge_data(routes[i], routes[i+1], j)[t]\n",
    "                keys = j\n",
    "        list_jalan.append(keys)\n",
    "    \n",
    "    return list_jalan"
   ]
  },
  {
   "cell_type": "code",
   "execution_count": null,
   "metadata": {},
   "outputs": [],
   "source": [
    "df = nx.to_pandas_edgelist(G, edge_key='ekey').set_index([\"source\",\"target\",\"ekey\"])\n",
    "df[attr_name] = df[value].values\n",
    "nx.set_edge_attrbibutes(G, df[attr_name], name=attr_name)"
   ]
  },
  {
   "cell_type": "code",
   "execution_count": 4,
   "metadata": {},
   "outputs": [],
   "source": [
    "##kayaknya gaperlu di studi kasus, ini initialize flow. Changing the name to add_edge_flow from updating_mainflow\n",
    "def add_edge_travel_time(G):\n",
    "    df = nx.to_pandas_edgelist(G, edge_key='ekey').set_index([\"source\",\"target\",\"ekey\"])\n",
    "    df['travel_time'] = df['travel_time_awal'].values\n",
    "    nx.set_edge_attributes(G, df['travel_time'], name='travel_time')\n",
    "    return G  "
   ]
  },
  {
   "cell_type": "code",
   "execution_count": 6,
   "metadata": {},
   "outputs": [],
   "source": [
    "def add_edge_flow(G, flow):\n",
    "    df = nx.to_pandas_edgelist(G, edge_key='ekey').set_index([\"source\",\"target\",\"ekey\"])\n",
    "    df['flow'] = flow.values\n",
    "    nx.set_edge_attributes(G, df['flow'], name='flow')\n",
    "    return G  "
   ]
  },
  {
   "cell_type": "code",
   "execution_count": 5,
   "metadata": {},
   "outputs": [],
   "source": [
    "def updating_auxflow(G,auxflow):\n",
    "    df = nx.to_pandas_edgelist(G, edge_key='ekey').set_index([\"source\",\"target\",\"ekey\"])\n",
    "    df['auxflow'] = auxflow.values\n",
    "    nx.set_edge_attributes(G, df['auxflow'], name='auxflow')  \n",
    "    return G  "
   ]
  },
  {
   "cell_type": "code",
   "execution_count": 6,
   "metadata": {},
   "outputs": [],
   "source": [
    "#This is a link performance function derived from Indonesia's Highway Manual (MKJI 1997).\n",
    "def lpr(row, alpha=0.15,beta=4):\n",
    "    if np.isnan(row['flow']):\n",
    "        return row['travel_time']\n",
    "    else:\n",
    "        try:\n",
    "            return row['travel_time_awal']*(1+alpha*(row['flow']/row['capacity'])**beta)\n",
    "        except ValueError:\n",
    "            return row['travel_time']"
   ]
  },
  {
   "cell_type": "code",
   "execution_count": 3,
   "metadata": {},
   "outputs": [],
   "source": [
    "def updating_travel_time_lpr(G, alpha=0.15,beta=4):\n",
    "    df = nx.to_pandas_edgelist(G, edge_key='ekey').set_index([\"source\",\"target\",\"ekey\"])\n",
    "    df['travel_time'] = df.apply(lambda x: lpr(x, alpha, beta), axis=1).values\n",
    "    nx.set_edge_attributes(G, df['travel_time'], name='travel_time')  \n",
    "    return G  "
   ]
  },
  {
   "cell_type": "code",
   "execution_count": 7,
   "metadata": {},
   "outputs": [],
   "source": [
    "def line_search(row, a, alpha, beta):\n",
    "    t=row['travel_time_awal']\n",
    "    x=row['flow']\n",
    "    y=row['auxflow']\n",
    "    c=row['capacity']\n",
    "    return -t*(x-y)*(alpha*(((x+a*(y-x))/c)**beta)+1)"
   ]
  },
  {
   "cell_type": "code",
   "execution_count": 8,
   "metadata": {},
   "outputs": [],
   "source": [
    "def update(row, alpha):\n",
    "    return row['flow'] + alpha * (row['auxflow'] - row['flow'])"
   ]
  },
  {
   "cell_type": "code",
   "execution_count": 9,
   "metadata": {},
   "outputs": [],
   "source": [
    "def bisection(G, xl=0, xr=1, delta=0.0002, alpha=0.15, beta=4):\n",
    "    n = 0\n",
    "    df = nx.to_pandas_edgelist(G)\n",
    "    condition = True\n",
    "    while condition:\n",
    "        n += 1\n",
    "        x = (xl+xr)/2\n",
    "        if df.apply(lambda row: line_search(row, x, alpha=alpha, beta=beta), axis = 1).sum() <= 0:\n",
    "            xl = x\n",
    "        else:\n",
    "            xr = x\n",
    "        condition = abs(xr-xl) > 2*delta\n",
    "        # print('|xl-xr| =', abs(xr-xl),' xl =', xl, ' xr=',xr)\n",
    "    # print(f\"number of iteration in bisection method is {n} with alpha = {(xr+xl)/2}\")\n",
    "    return (xr+xl)/2"
   ]
  },
  {
   "cell_type": "markdown",
   "metadata": {},
   "source": [
    "# Convev Combinations Algorithm"
   ]
  },
  {
   "cell_type": "code",
   "execution_count": 10,
   "metadata": {},
   "outputs": [],
   "source": [
    "def CCA(G, source, target, flow, convergence):\n",
    "    \n",
    "    #Initialize time_travel based on travel_time_awal (dibikin fungsi baru aja kayaknya)\n",
    "    add_edge_travel_time(G)\n",
    "\n",
    "     # Initialize flow, fix it.\n",
    "    routes = nx.shortest_path(G, source, target, weight='travel_time_awal')\n",
    "    G = add\n",
    "    \n",
    "    condition = True\n",
    "\n",
    "    while condition == True:\n",
    "        unique_edge = set(G.edges())\n",
    "        #update travel time based on Link Performance Function\n",
    "        for i in unique_edge:\n",
    "            for j in range(len(G.get_edge_data(i[0],i[1]))):\n",
    "                attrib = {(i[0], i[1], j): {\"travel_time\": lpr_idn(G[i[0]][i[1]][j])}}\n",
    "                nx.set_edge_attributes(G, attrib)\n",
    "\n",
    "        # calculate auxiliary flow from shortest path from new travel time\n",
    "        routes = nx.shortest_path(G, source, target, weight='travel_time')\n",
    "        G = updating_auxflow(G, routes)\n",
    "\n",
    "        # calculate optimal move size (alpha)\n",
    "        alpha = bisection(G)\n",
    "        if alpha < convergence:\n",
    "            condition = False\n",
    "\n",
    "        print('alpha =', alpha)\n",
    "\n",
    "        #updating main flow based on optimal move size.\n",
    "        flow_baru = df.apply(lambda row: update(row, alpha), axis=1)\n",
    "\n",
    "        #set edge attribute into new main flow.\n",
    "        index = 0\n",
    "        for i in unique_edge:\n",
    "            for j in range(len(G.get_edge_data(i[0],i[1]))):\n",
    "                    attrib = {(i[0], i[1], j): {new_flow: flow_baru[index]}}\n",
    "                    nx.set_edge_attributes(G, attrib)\n",
    "                    index += 1\n",
    "                \n",
    "    return G"
   ]
  },
  {
   "cell_type": "code",
   "execution_count": 11,
   "metadata": {},
   "outputs": [
    {
     "ename": "KeyError",
     "evalue": "'travel_time_awal'",
     "output_type": "error",
     "traceback": [
      "\u001b[0;31m---------------------------------------------------------------------------\u001b[0m",
      "\u001b[0;31mKeyError\u001b[0m                                  Traceback (most recent call last)",
      "File \u001b[0;32m~/opt/anaconda3/envs/ox/lib/python3.10/site-packages/pandas/core/indexes/base.py:3800\u001b[0m, in \u001b[0;36mIndex.get_loc\u001b[0;34m(self, key, method, tolerance)\u001b[0m\n\u001b[1;32m   3799\u001b[0m \u001b[39mtry\u001b[39;00m:\n\u001b[0;32m-> 3800\u001b[0m     \u001b[39mreturn\u001b[39;00m \u001b[39mself\u001b[39;49m\u001b[39m.\u001b[39;49m_engine\u001b[39m.\u001b[39;49mget_loc(casted_key)\n\u001b[1;32m   3801\u001b[0m \u001b[39mexcept\u001b[39;00m \u001b[39mKeyError\u001b[39;00m \u001b[39mas\u001b[39;00m err:\n",
      "File \u001b[0;32m~/opt/anaconda3/envs/ox/lib/python3.10/site-packages/pandas/_libs/index.pyx:138\u001b[0m, in \u001b[0;36mpandas._libs.index.IndexEngine.get_loc\u001b[0;34m()\u001b[0m\n",
      "File \u001b[0;32m~/opt/anaconda3/envs/ox/lib/python3.10/site-packages/pandas/_libs/index.pyx:165\u001b[0m, in \u001b[0;36mpandas._libs.index.IndexEngine.get_loc\u001b[0;34m()\u001b[0m\n",
      "File \u001b[0;32mpandas/_libs/hashtable_class_helper.pxi:5745\u001b[0m, in \u001b[0;36mpandas._libs.hashtable.PyObjectHashTable.get_item\u001b[0;34m()\u001b[0m\n",
      "File \u001b[0;32mpandas/_libs/hashtable_class_helper.pxi:5753\u001b[0m, in \u001b[0;36mpandas._libs.hashtable.PyObjectHashTable.get_item\u001b[0;34m()\u001b[0m\n",
      "\u001b[0;31mKeyError\u001b[0m: 'travel_time_awal'",
      "\nThe above exception was the direct cause of the following exception:\n",
      "\u001b[0;31mKeyError\u001b[0m                                  Traceback (most recent call last)",
      "Cell \u001b[0;32mIn [11], line 10\u001b[0m\n\u001b[1;32m      6\u001b[0m \u001b[39m# key4 = G.add_edge(2,3, capacity = 5, travel_time_awal=37)\u001b[39;00m\n\u001b[1;32m      7\u001b[0m \u001b[39m# key5 = G.add_edge(2,3, capacity = 5, travel_time_awal=15)\u001b[39;00m\n\u001b[1;32m      8\u001b[0m flow \u001b[39m=\u001b[39m \u001b[39m10\u001b[39m\n\u001b[0;32m---> 10\u001b[0m H \u001b[39m=\u001b[39m CCA(G,\u001b[39m1\u001b[39;49m,\u001b[39m2\u001b[39;49m, \u001b[39m0.01\u001b[39;49m)\n\u001b[1;32m     11\u001b[0m nx\u001b[39m.\u001b[39mto_pandas_edgelist(H)\n",
      "Cell \u001b[0;32mIn [10], line 4\u001b[0m, in \u001b[0;36mCCA\u001b[0;34m(G, source, target, convergence)\u001b[0m\n\u001b[1;32m      2\u001b[0m df \u001b[39m=\u001b[39m pd\u001b[39m.\u001b[39mDataFrame()\n\u001b[1;32m      3\u001b[0m \u001b[39m#Initialize time_travel based on travel_time_awal (dibikin fungsi baru aja kayaknya)\u001b[39;00m\n\u001b[0;32m----> 4\u001b[0m add_edge_attributes(G, values\u001b[39m=\u001b[39mdf[\u001b[39m'\u001b[39;49m\u001b[39mtravel_time_awal\u001b[39;49m\u001b[39m'\u001b[39;49m], attr_name\u001b[39m=\u001b[39m\u001b[39m'\u001b[39m\u001b[39mtravel_time\u001b[39m\u001b[39m'\u001b[39m)\n\u001b[1;32m      6\u001b[0m \u001b[39m# iterasi 0\u001b[39;00m\n\u001b[1;32m      7\u001b[0m routes \u001b[39m=\u001b[39m nx\u001b[39m.\u001b[39mshortest_path(G, source, target, weight\u001b[39m=\u001b[39m\u001b[39m'\u001b[39m\u001b[39mtravel_time_awal\u001b[39m\u001b[39m'\u001b[39m)\n",
      "File \u001b[0;32m~/opt/anaconda3/envs/ox/lib/python3.10/site-packages/pandas/core/frame.py:3805\u001b[0m, in \u001b[0;36mDataFrame.__getitem__\u001b[0;34m(self, key)\u001b[0m\n\u001b[1;32m   3803\u001b[0m \u001b[39mif\u001b[39;00m \u001b[39mself\u001b[39m\u001b[39m.\u001b[39mcolumns\u001b[39m.\u001b[39mnlevels \u001b[39m>\u001b[39m \u001b[39m1\u001b[39m:\n\u001b[1;32m   3804\u001b[0m     \u001b[39mreturn\u001b[39;00m \u001b[39mself\u001b[39m\u001b[39m.\u001b[39m_getitem_multilevel(key)\n\u001b[0;32m-> 3805\u001b[0m indexer \u001b[39m=\u001b[39m \u001b[39mself\u001b[39;49m\u001b[39m.\u001b[39;49mcolumns\u001b[39m.\u001b[39;49mget_loc(key)\n\u001b[1;32m   3806\u001b[0m \u001b[39mif\u001b[39;00m is_integer(indexer):\n\u001b[1;32m   3807\u001b[0m     indexer \u001b[39m=\u001b[39m [indexer]\n",
      "File \u001b[0;32m~/opt/anaconda3/envs/ox/lib/python3.10/site-packages/pandas/core/indexes/base.py:3802\u001b[0m, in \u001b[0;36mIndex.get_loc\u001b[0;34m(self, key, method, tolerance)\u001b[0m\n\u001b[1;32m   3800\u001b[0m     \u001b[39mreturn\u001b[39;00m \u001b[39mself\u001b[39m\u001b[39m.\u001b[39m_engine\u001b[39m.\u001b[39mget_loc(casted_key)\n\u001b[1;32m   3801\u001b[0m \u001b[39mexcept\u001b[39;00m \u001b[39mKeyError\u001b[39;00m \u001b[39mas\u001b[39;00m err:\n\u001b[0;32m-> 3802\u001b[0m     \u001b[39mraise\u001b[39;00m \u001b[39mKeyError\u001b[39;00m(key) \u001b[39mfrom\u001b[39;00m \u001b[39merr\u001b[39;00m\n\u001b[1;32m   3803\u001b[0m \u001b[39mexcept\u001b[39;00m \u001b[39mTypeError\u001b[39;00m:\n\u001b[1;32m   3804\u001b[0m     \u001b[39m# If we have a listlike key, _check_indexing_error will raise\u001b[39;00m\n\u001b[1;32m   3805\u001b[0m     \u001b[39m#  InvalidIndexError. Otherwise we fall through and re-raise\u001b[39;00m\n\u001b[1;32m   3806\u001b[0m     \u001b[39m#  the TypeError.\u001b[39;00m\n\u001b[1;32m   3807\u001b[0m     \u001b[39mself\u001b[39m\u001b[39m.\u001b[39m_check_indexing_error(key)\n",
      "\u001b[0;31mKeyError\u001b[0m: 'travel_time_awal'"
     ]
    }
   ],
   "source": [
    "# Contoh\n",
    "G = nx.MultiDiGraph()\n",
    "key = G.add_edge(1,2, capacity = 2, travel_time_awal=10)\n",
    "key2 = G.add_edge(1,2, capacity = 4, travel_time_awal=20)\n",
    "key3 = G.add_edge(1,2, capacity = 3, travel_time_awal=25)\n",
    "# key4 = G.add_edge(2,3, capacity = 5, travel_time_awal=37)\n",
    "# key5 = G.add_edge(2,3, capacity = 5, travel_time_awal=15)\n",
    "flow = 10\n",
    "\n",
    "H = CCA(G,1,2, 0.01)\n",
    "nx.to_pandas_edgelist(H)"
   ]
  },
  {
   "cell_type": "code",
   "execution_count": 55,
   "metadata": {},
   "outputs": [
    {
     "data": {
      "text/html": [
       "<div>\n",
       "<style scoped>\n",
       "    .dataframe tbody tr th:only-of-type {\n",
       "        vertical-align: middle;\n",
       "    }\n",
       "\n",
       "    .dataframe tbody tr th {\n",
       "        vertical-align: top;\n",
       "    }\n",
       "\n",
       "    .dataframe thead th {\n",
       "        text-align: right;\n",
       "    }\n",
       "</style>\n",
       "<table border=\"1\" class=\"dataframe\">\n",
       "  <thead>\n",
       "    <tr style=\"text-align: right;\">\n",
       "      <th></th>\n",
       "      <th>source</th>\n",
       "      <th>target</th>\n",
       "      <th>ekey</th>\n",
       "      <th>travel_time</th>\n",
       "      <th>travel_time_awal</th>\n",
       "      <th>capacity</th>\n",
       "    </tr>\n",
       "  </thead>\n",
       "  <tbody>\n",
       "    <tr>\n",
       "      <th>0</th>\n",
       "      <td>1</td>\n",
       "      <td>2</td>\n",
       "      <td>0</td>\n",
       "      <td>10</td>\n",
       "      <td>10</td>\n",
       "      <td>2</td>\n",
       "    </tr>\n",
       "    <tr>\n",
       "      <th>1</th>\n",
       "      <td>1</td>\n",
       "      <td>2</td>\n",
       "      <td>1</td>\n",
       "      <td>20</td>\n",
       "      <td>20</td>\n",
       "      <td>4</td>\n",
       "    </tr>\n",
       "    <tr>\n",
       "      <th>2</th>\n",
       "      <td>1</td>\n",
       "      <td>2</td>\n",
       "      <td>2</td>\n",
       "      <td>25</td>\n",
       "      <td>25</td>\n",
       "      <td>3</td>\n",
       "    </tr>\n",
       "  </tbody>\n",
       "</table>\n",
       "</div>"
      ],
      "text/plain": [
       "   source  target  ekey  travel_time  travel_time_awal  capacity\n",
       "0       1       2     0           10                10         2\n",
       "1       1       2     1           20                20         4\n",
       "2       1       2     2           25                25         3"
      ]
     },
     "metadata": {},
     "output_type": "display_data"
    },
    {
     "ename": "SyntaxError",
     "evalue": "invalid syntax (<string>, line 1)",
     "output_type": "error",
     "traceback": [
      "Traceback \u001b[0;36m(most recent call last)\u001b[0m:\n",
      "\u001b[0m  File \u001b[1;32m~/.local/lib/python3.10/site-packages/IPython/core/interactiveshell.py:3378\u001b[0m in \u001b[1;35mrun_code\u001b[0m\n    exec(code_obj, self.user_global_ns, self.user_ns)\u001b[0m\n",
      "\u001b[0m  Cell \u001b[1;32mIn [55], line 12\u001b[0m\n    add_edge_attributes(G, value='travel_time', attr_name='travel_time', method_chain=['apply', 'iloc'], args=['lambda x: lpr(x): axis=1', '[:, 0]'])\u001b[0m\n",
      "\u001b[0;36m  Cell \u001b[0;32mIn [53], line 42\u001b[0;36m in \u001b[0;35madd_edge_attributes\u001b[0;36m\n\u001b[0;31m    arg = eval(args[i])\u001b[0;36m\n",
      "\u001b[0;36m  File \u001b[0;32m<string>:1\u001b[0;36m\u001b[0m\n\u001b[0;31m    lambda x: lpr(x): axis=1\u001b[0m\n\u001b[0m                    ^\u001b[0m\n\u001b[0;31mSyntaxError\u001b[0m\u001b[0;31m:\u001b[0m invalid syntax\n"
     ]
    }
   ],
   "source": [
    "# Contoh\n",
    "G = nx.MultiDiGraph()\n",
    "key = G.add_edge(1,2, capacity = 2, travel_time_awal=10)\n",
    "key2 = G.add_edge(1,2, capacity = 4, travel_time_awal=20)\n",
    "key3 = G.add_edge(1,2, capacity = 3, travel_time_awal=25)\n",
    "# key4 = G.add_edge(2,3, capacity = 5, travel_time_awal=37)\n",
    "# key5 = G.add_edge(2,3, capacity = 5, travel_time_awal=15)\n",
    "df= pd.DataFrame()\n",
    "add_edge_attributes(G, value='travel_time_awal', attr_name='travel_time')\n",
    "df = nx.to_pandas_edgelist(G, edge_key='ekey')\n",
    "display(df)\n",
    "add_edge_attributes(G, value='travel_time', attr_name='travel_time', method_chain=['apply', 'iloc'], args=['lambda x: lpr(x): axis=1', '[:, 0]'])\n",
    "df = nx.to_pandas_edgelist(G, edge_key='ekey')\n",
    "display(df)\n"
   ]
  },
  {
   "cell_type": "code",
   "execution_count": null,
   "metadata": {},
   "outputs": [],
   "source": [
    "def foo(string):\n",
    "    df = df"
   ]
  },
  {
   "cell_type": "code",
   "execution_count": null,
   "metadata": {},
   "outputs": [],
   "source": [
    "# Contoh\n",
    "G = nx.MultiDiGraph()\n",
    "key = G.add_edge(1,2, capacity = 2, travel_time_awal=10)\n",
    "key2 = G.add_edge(1,2, capacity = 4, travel_time_awal=20)\n",
    "key3 = G.add_edge(1,2, capacity = 3, travel_time_awal=25)\n",
    "# key4 = G.add_edge(2,3, capacity = 5, travel_time_awal=37)\n",
    "# key5 = G.add_edge(2,3, capacity = 5, travel_time_awal=15)\n",
    "df= pd.DataFrame()\n",
    "add_edge_attributes(G, value='travel_time_awal', attr_name='travel_time')\n",
    "df = nx.to_pandas_edgelist(G, edge_key='ekey')\n",
    "display(df)"
   ]
  },
  {
   "cell_type": "code",
   "execution_count": null,
   "metadata": {},
   "outputs": [
    {
     "data": {
      "text/html": [
       "<div>\n",
       "<style scoped>\n",
       "    .dataframe tbody tr th:only-of-type {\n",
       "        vertical-align: middle;\n",
       "    }\n",
       "\n",
       "    .dataframe tbody tr th {\n",
       "        vertical-align: top;\n",
       "    }\n",
       "\n",
       "    .dataframe thead th {\n",
       "        text-align: right;\n",
       "    }\n",
       "</style>\n",
       "<table border=\"1\" class=\"dataframe\">\n",
       "  <thead>\n",
       "    <tr style=\"text-align: right;\">\n",
       "      <th></th>\n",
       "      <th>source</th>\n",
       "      <th>target</th>\n",
       "      <th>ekey</th>\n",
       "      <th>travel_time</th>\n",
       "      <th>travel_time_awal</th>\n",
       "      <th>capacity</th>\n",
       "    </tr>\n",
       "  </thead>\n",
       "  <tbody>\n",
       "    <tr>\n",
       "      <th>0</th>\n",
       "      <td>1</td>\n",
       "      <td>2</td>\n",
       "      <td>0</td>\n",
       "      <td>10</td>\n",
       "      <td>10</td>\n",
       "      <td>2</td>\n",
       "    </tr>\n",
       "    <tr>\n",
       "      <th>1</th>\n",
       "      <td>1</td>\n",
       "      <td>2</td>\n",
       "      <td>1</td>\n",
       "      <td>20</td>\n",
       "      <td>20</td>\n",
       "      <td>4</td>\n",
       "    </tr>\n",
       "    <tr>\n",
       "      <th>2</th>\n",
       "      <td>1</td>\n",
       "      <td>2</td>\n",
       "      <td>2</td>\n",
       "      <td>25</td>\n",
       "      <td>25</td>\n",
       "      <td>3</td>\n",
       "    </tr>\n",
       "  </tbody>\n",
       "</table>\n",
       "</div>"
      ],
      "text/plain": [
       "   source  target  ekey  travel_time  travel_time_awal  capacity\n",
       "0       1       2     0           10                10         2\n",
       "1       1       2     1           20                20         4\n",
       "2       1       2     2           25                25         3"
      ]
     },
     "metadata": {},
     "output_type": "display_data"
    }
   ],
   "source": [
    "df = nx.to_pandas_edgelist(G, edge_key='ekey')\n",
    "display(df)"
   ]
  },
  {
   "cell_type": "code",
   "execution_count": null,
   "metadata": {},
   "outputs": [
    {
     "data": {
      "text/html": [
       "<div>\n",
       "<style scoped>\n",
       "    .dataframe tbody tr th:only-of-type {\n",
       "        vertical-align: middle;\n",
       "    }\n",
       "\n",
       "    .dataframe tbody tr th {\n",
       "        vertical-align: top;\n",
       "    }\n",
       "\n",
       "    .dataframe thead th {\n",
       "        text-align: right;\n",
       "    }\n",
       "</style>\n",
       "<table border=\"1\" class=\"dataframe\">\n",
       "  <thead>\n",
       "    <tr style=\"text-align: right;\">\n",
       "      <th></th>\n",
       "      <th>ekey</th>\n",
       "      <th>travel_time_awal</th>\n",
       "    </tr>\n",
       "  </thead>\n",
       "  <tbody>\n",
       "    <tr>\n",
       "      <th>0</th>\n",
       "      <td>0</td>\n",
       "      <td>10</td>\n",
       "    </tr>\n",
       "    <tr>\n",
       "      <th>1</th>\n",
       "      <td>1</td>\n",
       "      <td>20</td>\n",
       "    </tr>\n",
       "    <tr>\n",
       "      <th>2</th>\n",
       "      <td>2</td>\n",
       "      <td>25</td>\n",
       "    </tr>\n",
       "  </tbody>\n",
       "</table>\n",
       "</div>"
      ],
      "text/plain": [
       "   ekey  travel_time_awal\n",
       "0     0                10\n",
       "1     1                20\n",
       "2     2                25"
      ]
     },
     "metadata": {},
     "output_type": "display_data"
    }
   ],
   "source": [
    "display(df[[\"ekey\",\"travel_time_awal\"]])"
   ]
  },
  {
   "cell_type": "code",
   "execution_count": null,
   "metadata": {},
   "outputs": [],
   "source": []
  },
  {
   "cell_type": "markdown",
   "metadata": {},
   "source": []
  }
 ],
 "metadata": {
  "kernelspec": {
   "display_name": "Python 3.10.6 ('ox')",
   "language": "python",
   "name": "python3"
  },
  "language_info": {
   "codemirror_mode": {
    "name": "ipython",
    "version": 3
   },
   "file_extension": ".py",
   "mimetype": "text/x-python",
   "name": "python",
   "nbconvert_exporter": "python",
   "pygments_lexer": "ipython3",
   "version": "3.10.6"
  },
  "orig_nbformat": 4,
  "vscode": {
   "interpreter": {
    "hash": "132ad71d0fd4d9f16fe8a1783310a605af33a9e8263c383e9e84dbe57d705c94"
   }
  }
 },
 "nbformat": 4,
 "nbformat_minor": 2
}
